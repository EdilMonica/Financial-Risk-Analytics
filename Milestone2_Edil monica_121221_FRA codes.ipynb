{
 "cells": [
  {
   "cell_type": "code",
   "execution_count": null,
   "metadata": {},
   "outputs": [],
   "source": [
    "import numpy as np\n",
    "import matplotlib.pyplot as plt\n",
    "import pandas as pd\n",
    "import seaborn as sns # for making plots with seaborn\n",
    "color = sns.color_palette()\n",
    "import sklearn.metrics as metrics\n",
    "import os\n",
    "import warnings\n",
    "warnings.filterwarnings(\"ignore\")"
   ]
  },
  {
   "cell_type": "code",
   "execution_count": null,
   "metadata": {},
   "outputs": [],
   "source": [
    "os.getcwd()"
   ]
  },
  {
   "cell_type": "code",
   "execution_count": null,
   "metadata": {},
   "outputs": [],
   "source": [
    "df = pd.read_excel(\"C:\\\\Users\\\\Lenovo X1\\\\Downloads\\\\Exercises\\\\FRA MODULE 1\\\\Project 1 FRA\\\\Company_Data2015-1.xlsx\")\n",
    "df.head()"
   ]
  },
  {
   "cell_type": "code",
   "execution_count": null,
   "metadata": {},
   "outputs": [],
   "source": [
    "print('The number of rows (observations) is',df.shape[0],'\\n''The number of columns (variables) is',df.shape[1])"
   ]
  },
  {
   "cell_type": "code",
   "execution_count": null,
   "metadata": {},
   "outputs": [],
   "source": [
    "df.info()"
   ]
  },
  {
   "cell_type": "code",
   "execution_count": null,
   "metadata": {},
   "outputs": [],
   "source": [
    "df.columns"
   ]
  },
  {
   "cell_type": "code",
   "execution_count": null,
   "metadata": {},
   "outputs": [],
   "source": [
    "df.rename(columns = {'Networth Next Year':'Networth_Next_Year', 'Equity Paid Up':'Equity_Paid_Up',\n",
    "       'Capital Employed':'Capital_Employed', 'Total Debt':'Total_Debt', 'Gross Block ':'Gross_Block',\n",
    "       'Net Working Capital ':'Net_Working_Capital', 'Current Assets ':'Curr_Assets',\n",
    "       'Current Liabilities and Provisions ':'Curr_Liab_and_Prov', 'Total Assets/Liabilities ':'Total_Assets_to_Liab',\n",
    "       'Gross Sales':'Gross_Sales', 'Net Sales':'Net_Sales', 'Other Income':'Other_Income', 'Value Of Output':'Value_Of_Output',\n",
    "       'Cost of Production':'Cost_of_Prod', 'Selling Cost':'Selling_Cost', 'Adjusted PAT':'Adjusted_PAT', 'Revenue earnings in forex':'Rev_earn_in_forex',\n",
    "       'Revenue expenses in forex':'Rev_exp_in_forex', 'Capital expenses in forex':'Capital_exp_in_forex',\n",
    "       'Book Value (Unit Curr)':'Book_Value_Unit_Curr', 'Book Value (Adj.) (Unit Curr)':'Book_Value_Adj_Unit_Curr',\n",
    "       'Market Capitalisation':'Market_Capitalisation', 'CEPS (annualised) (Unit Curr)':'CEPS_annualised_Unit_Curr',\n",
    "       'Cash Flow From Operating Activities':'Cash_Flow_From_Opr',\n",
    "       'Cash Flow From Investing Activities':'Cash_Flow_From_Inv',\n",
    "       'Cash Flow From Financing Activities':'Cash_Flow_From_Fin', 'ROG-Net Worth (%)':'ROG_Net_Worth_perc',\n",
    "       'ROG-Capital Employed (%)':'ROG_Capital_Employed_perc', 'ROG-Gross Block (%)':'ROG_Gross_Block_perc',\n",
    "       'ROG-Gross Sales (%)':'ROG_Gross_Sales_perc', 'ROG-Net Sales (%)':'ROG_Net_Sales_perc',\n",
    "       'ROG-Cost of Production (%)':'ROG_Cost_of_Prod_perc', 'ROG-Total Assets (%)':'ROG_Total_Assets_perc', 'ROG-PBIDT (%)':'ROG_PBIDT_perc',\n",
    "       'ROG-PBDT (%)':'ROG_PBDT_perc', 'ROG-PBIT (%)':'ROG_PBIT_perc', 'ROG-PBT (%)':'ROG_PBT_perc', 'ROG-PAT (%)':'ROG_PAT_perc',\n",
    "       'ROG-CP (%)':'ROG_CP_perc', 'ROG-Revenue earnings in forex (%)':'ROG_Rev_earn_in_forex_perc',\n",
    "       'ROG-Revenue expenses in forex (%)':'ROG_Rev_exp_in_forex_perc', 'ROG-Market Capitalisation (%)':'ROG_Market_Capitalisation_perc',\n",
    "       'Current Ratio[Latest]':'Curr_Ratio_Latest', 'Fixed Assets Ratio[Latest]':'Fixed_Assets_Ratio_Latest',\n",
    "       'Inventory Ratio[Latest]':'Inventory_Ratio_Latest', 'Debtors Ratio[Latest]':'Debtors_Ratio_Latest',\n",
    "       'Total Asset Turnover Ratio[Latest]':'Total_Asset_Turnover_Ratio_Latest', 'Interest Cover Ratio[Latest]':'Interest_Cover_Ratio_Latest',\n",
    "       'PBIDTM (%)[Latest]':'PBIDTM_perc_Latest', 'PBITM (%)[Latest]':'PBITM_perc_Latest', 'PBDTM (%)[Latest]':'PBDTM_perc_Latest',\n",
    "       'CPM (%)[Latest]':'CPM_perc_Latest', 'APATM (%)[Latest]':'APATM_perc_Latest', 'Debtors Velocity (Days)':'Debtors_Vel_Days',\n",
    "       'Creditors Velocity (Days)':'Creditors_Vel_Days', 'Inventory Velocity (Days)':'Inventory_Vel_Days',\n",
    "       'Value of Output/Total Assets':'Value_of_Output_to_Total_Assets', 'Value of Output/Gross Block':'Value_of_Output_to_Gross_Block'}, \n",
    "                      inplace = True) "
   ]
  },
  {
   "cell_type": "code",
   "execution_count": null,
   "metadata": {},
   "outputs": [],
   "source": [
    "df.info()"
   ]
  },
  {
   "cell_type": "code",
   "execution_count": null,
   "metadata": {},
   "outputs": [],
   "source": [
    "dup_rows = df.duplicated()\n",
    "df.drop_duplicates(inplace=True)\n",
    "df.shape\n",
    "print('Number of duplicate rows = %d' % (dup_rows.sum()))\n",
    "print(df.shape)"
   ]
  },
  {
   "cell_type": "code",
   "execution_count": null,
   "metadata": {
    "scrolled": false
   },
   "outputs": [],
   "source": [
    "with pd.option_context('display.max_columns', 70):\n",
    "    print(df.describe())"
   ]
  },
  {
   "cell_type": "code",
   "execution_count": null,
   "metadata": {},
   "outputs": [],
   "source": [
    "null = df.columns[df.isnull().any()]\n",
    "df[null].isnull().sum()"
   ]
  },
  {
   "cell_type": "code",
   "execution_count": null,
   "metadata": {},
   "outputs": [],
   "source": [
    "plt.figure(figsize = (12,8))\n",
    "sns.heatmap(df.isnull(), cbar = False, cmap = 'coolwarm', yticklabels = False)\n",
    "plt.show()"
   ]
  },
  {
   "cell_type": "code",
   "execution_count": null,
   "metadata": {},
   "outputs": [],
   "source": [
    "df.isnull().sum(axis = 1)"
   ]
  },
  {
   "cell_type": "code",
   "execution_count": null,
   "metadata": {},
   "outputs": [],
   "source": [
    "df[df.isnull().any(axis=1)]"
   ]
  },
  {
   "cell_type": "code",
   "execution_count": null,
   "metadata": {},
   "outputs": [],
   "source": [
    "df[null].isnull().sum().sum()"
   ]
  },
  {
   "cell_type": "code",
   "execution_count": null,
   "metadata": {},
   "outputs": [],
   "source": [
    "df.count().sum()"
   ]
  },
  {
   "cell_type": "code",
   "execution_count": null,
   "metadata": {},
   "outputs": [],
   "source": [
    "118/240144"
   ]
  },
  {
   "cell_type": "code",
   "execution_count": null,
   "metadata": {},
   "outputs": [],
   "source": [
    "median = df.median()\n",
    "df.fillna(value=median,inplace=True)"
   ]
  },
  {
   "cell_type": "code",
   "execution_count": null,
   "metadata": {},
   "outputs": [],
   "source": [
    "null = df.columns[df.isnull().any()]\n",
    "df[null].isnull().sum()"
   ]
  },
  {
   "cell_type": "code",
   "execution_count": null,
   "metadata": {},
   "outputs": [],
   "source": [
    "df[null].isnull().sum().sum()"
   ]
  },
  {
   "cell_type": "code",
   "execution_count": null,
   "metadata": {},
   "outputs": [],
   "source": [
    "df.columns"
   ]
  },
  {
   "cell_type": "code",
   "execution_count": null,
   "metadata": {},
   "outputs": [],
   "source": [
    "from pylab import rcParams\n",
    "rcParams['figure.figsize'] = 10,6"
   ]
  },
  {
   "cell_type": "code",
   "execution_count": null,
   "metadata": {
    "scrolled": false
   },
   "outputs": [],
   "source": [
    "df[['Equity_Paid_Up',\n",
    "       'Total_Debt'\n",
    "       ]].hist()"
   ]
  },
  {
   "cell_type": "code",
   "execution_count": null,
   "metadata": {},
   "outputs": [],
   "source": [
    "df[['Book_Value_Adj_Unit_Curr', 'CEPS_annualised_Unit_Curr'\n",
    "       ]].hist()"
   ]
  },
  {
   "cell_type": "code",
   "execution_count": null,
   "metadata": {},
   "outputs": [],
   "source": [
    "df[['Curr_Ratio_Latest', 'Debtors_Ratio_Latest'\n",
    "       ]].hist()"
   ]
  },
  {
   "cell_type": "code",
   "execution_count": null,
   "metadata": {},
   "outputs": [],
   "source": [
    "df[['PBITM_perc_Latest', 'Debtors_Vel_Days',\n",
    "             ]].hist()"
   ]
  },
  {
   "cell_type": "code",
   "execution_count": null,
   "metadata": {},
   "outputs": [],
   "source": [
    "df[[ 'Value_of_Output_to_Gross_Block'\n",
    "       ]].hist()"
   ]
  },
  {
   "cell_type": "code",
   "execution_count": null,
   "metadata": {},
   "outputs": [],
   "source": [
    "from pylab import rcParams\n",
    "rcParams['figure.figsize'] = 15,2"
   ]
  },
  {
   "cell_type": "code",
   "execution_count": null,
   "metadata": {
    "scrolled": false
   },
   "outputs": [],
   "source": [
    "cols=['Equity_Paid_Up',\n",
    "       'Total_Debt', 'Book_Value_Adj_Unit_Curr', 'CEPS_annualised_Unit_Curr', 'Curr_Ratio_Latest', 'Debtors_Ratio_Latest', 'PBITM_perc_Latest', 'Debtors_Vel_Days', 'Value_of_Output_to_Gross_Block'];\n",
    "\n",
    "for i in cols:\n",
    "    sns.boxplot(df[i])\n",
    "    plt.show()"
   ]
  },
  {
   "cell_type": "code",
   "execution_count": null,
   "metadata": {},
   "outputs": [],
   "source": [
    "df1 = df.drop(['Co_Code', 'Co_Name'], axis = 1)"
   ]
  },
  {
   "cell_type": "code",
   "execution_count": null,
   "metadata": {},
   "outputs": [],
   "source": [
    "def remove_outlier(col):\n",
    "    sorted(col)\n",
    "    Q1,Q3=np.percentile(col,[25,75])\n",
    "    IQR=Q3-Q1\n",
    "    lr= Q1-(1.5 * IQR)\n",
    "    ur= Q3+(1.5 * IQR)\n",
    "    return lr, ur"
   ]
  },
  {
   "cell_type": "code",
   "execution_count": null,
   "metadata": {},
   "outputs": [],
   "source": [
    "for column in df1.columns:\n",
    "    lr,ur=remove_outlier(df1[column])\n",
    "    df1[column]=np.where(df1[column]>ur,ur,df1[column])\n",
    "    df1[column]=np.where(df1[column]<lr,lr,df1[column])   "
   ]
  },
  {
   "cell_type": "code",
   "execution_count": null,
   "metadata": {
    "scrolled": false
   },
   "outputs": [],
   "source": [
    "cols=['Equity_Paid_Up',\n",
    "       'Total_Debt', 'Book_Value_Adj_Unit_Curr', 'CEPS_annualised_Unit_Curr', 'Curr_Ratio_Latest', 'Debtors_Ratio_Latest', 'PBITM_perc_Latest', 'Debtors_Vel_Days', 'Value_of_Output_to_Gross_Block'];\n",
    "\n",
    "for i in cols:\n",
    "    sns.boxplot(df1[i])\n",
    "    plt.show()"
   ]
  },
  {
   "cell_type": "code",
   "execution_count": null,
   "metadata": {},
   "outputs": [],
   "source": [
    "plt.subplots(figsize = (8,6))\n",
    "sns.heatmap(df[['Equity_Paid_Up',\n",
    "       'Total_Debt', 'Book_Value_Adj_Unit_Curr', 'CEPS_annualised_Unit_Curr', 'Curr_Ratio_Latest', 'Debtors_Ratio_Latest', 'PBITM_perc_Latest', 'Debtors_Vel_Days',  'Value_of_Output_to_Gross_Block']] .corr(), annot = True, cmap = 'plasma', fmt = '.2f');"
   ]
  },
  {
   "cell_type": "code",
   "execution_count": null,
   "metadata": {},
   "outputs": [],
   "source": [
    "plt.figure(figsize=(30,20))  \n",
    "sns.heatmap(df1.corr(), annot=True,cmap='coolwarm',square=True)"
   ]
  },
  {
   "cell_type": "code",
   "execution_count": null,
   "metadata": {},
   "outputs": [],
   "source": [
    "df1['default'] = np.where((df['Networth_Next_Year'] > 0), 0, 1)"
   ]
  },
  {
   "cell_type": "code",
   "execution_count": null,
   "metadata": {},
   "outputs": [],
   "source": [
    "df1 = df1.drop('Networth_Next_Year', axis = 1)"
   ]
  },
  {
   "cell_type": "code",
   "execution_count": null,
   "metadata": {},
   "outputs": [],
   "source": [
    "df1[['default']].head(10)"
   ]
  },
  {
   "cell_type": "code",
   "execution_count": null,
   "metadata": {},
   "outputs": [],
   "source": [
    "df1['default'].value_counts()"
   ]
  },
  {
   "cell_type": "code",
   "execution_count": null,
   "metadata": {},
   "outputs": [],
   "source": [
    "df1['default'].value_counts(normalize = True)"
   ]
  },
  {
   "cell_type": "code",
   "execution_count": null,
   "metadata": {},
   "outputs": [],
   "source": [
    "plt.figure(figsize = (15, 5))\n",
    "plt.subplot(1,2,1)\n",
    "sns.boxplot(df1['default'], df1['Equity_Paid_Up'])\n",
    "\n",
    "plt.subplot(1,2,2)\n",
    "sns.boxplot(df1['default'], df1['Total_Debt'])\n",
    "plt.show()"
   ]
  },
  {
   "cell_type": "code",
   "execution_count": null,
   "metadata": {},
   "outputs": [],
   "source": [
    "plt.figure(figsize = (15, 5))\n",
    "plt.subplot(1,2,1)\n",
    "sns.boxplot(df1['default'], df1['Book_Value_Adj_Unit_Curr'])\n",
    "\n",
    "plt.subplot(1,2,2)\n",
    "sns.boxplot(df1['default'], df1['CEPS_annualised_Unit_Curr'])\n",
    "plt.show()"
   ]
  },
  {
   "cell_type": "code",
   "execution_count": null,
   "metadata": {},
   "outputs": [],
   "source": [
    "plt.figure(figsize = (15, 5))\n",
    "plt.subplot(1,2,1)\n",
    "sns.boxplot(df1['default'], df1['Curr_Ratio_Latest'])\n",
    "\n",
    "plt.subplot(1,2,2)\n",
    "sns.boxplot(df1['default'], df1['Debtors_Ratio_Latest'])\n",
    "plt.show()"
   ]
  },
  {
   "cell_type": "code",
   "execution_count": null,
   "metadata": {},
   "outputs": [],
   "source": [
    "plt.figure(figsize = (15, 5))\n",
    "plt.subplot(1,2,1)\n",
    "sns.boxplot(df1['default'], df1['PBITM_perc_Latest'])\n",
    "\n",
    "plt.subplot(1,2,2)\n",
    "sns.boxplot(df1['default'], df1['Debtors_Vel_Days'])\n",
    "plt.show()"
   ]
  },
  {
   "cell_type": "code",
   "execution_count": null,
   "metadata": {},
   "outputs": [],
   "source": [
    "plt.figure(figsize = (15, 5))\n",
    "plt.subplot(1,1,1)\n",
    "sns.boxplot(df1['default'], df1['Value_of_Output_to_Gross_Block'])"
   ]
  },
  {
   "cell_type": "code",
   "execution_count": null,
   "metadata": {},
   "outputs": [],
   "source": [
    "from statsmodels.stats.outliers_influence import variance_inflation_factor\n",
    "\n",
    "def calc_vif(X):\n",
    "\n",
    "    # Calculating VIF\n",
    "    vif = pd.DataFrame()\n",
    "    vif[\"variables\"] = X.columns\n",
    "    vif[\"VIF\"] = [variance_inflation_factor(X.values, i) for i in range(X.shape[1])]\n",
    "\n",
    "    return(vif)"
   ]
  },
  {
   "cell_type": "code",
   "execution_count": null,
   "metadata": {},
   "outputs": [],
   "source": [
    "X = df1.drop('default', axis = 1)\n",
    "calc_vif(X).sort_values(by = 'VIF', ascending = False)"
   ]
  },
  {
   "cell_type": "code",
   "execution_count": null,
   "metadata": {},
   "outputs": [],
   "source": [
    "X = X.drop('Net_Sales', axis = 1)\n",
    "calc_vif(X).sort_values(by = 'VIF', ascending = False)"
   ]
  },
  {
   "cell_type": "code",
   "execution_count": null,
   "metadata": {},
   "outputs": [],
   "source": [
    "X = X.drop('ROG_Gross_Sales_perc', axis = 1)\n",
    "calc_vif(X).sort_values(by = 'VIF', ascending = False)"
   ]
  },
  {
   "cell_type": "code",
   "execution_count": null,
   "metadata": {},
   "outputs": [],
   "source": [
    "X = X.drop('Gross_Sales', axis = 1)\n",
    "calc_vif(X).sort_values(by = 'VIF', ascending = False)"
   ]
  },
  {
   "cell_type": "code",
   "execution_count": null,
   "metadata": {},
   "outputs": [],
   "source": [
    "X = X.drop('PBDT', axis = 1)\n",
    "calc_vif(X).sort_values(by = 'VIF', ascending = False)"
   ]
  },
  {
   "cell_type": "code",
   "execution_count": null,
   "metadata": {},
   "outputs": [],
   "source": [
    "X = X.drop('Total_Assets_to_Liab', axis = 1)\n",
    "calc_vif(X).sort_values(by = 'VIF', ascending = False)"
   ]
  },
  {
   "cell_type": "code",
   "execution_count": null,
   "metadata": {},
   "outputs": [],
   "source": [
    "X = X.drop('PAT', axis = 1)\n",
    "calc_vif(X).sort_values(by = 'VIF', ascending = False)"
   ]
  },
  {
   "cell_type": "code",
   "execution_count": null,
   "metadata": {},
   "outputs": [],
   "source": [
    "X = X.drop('Value_Of_Output', axis = 1)\n",
    "calc_vif(X).sort_values(by = 'VIF', ascending = False)"
   ]
  },
  {
   "cell_type": "code",
   "execution_count": null,
   "metadata": {},
   "outputs": [],
   "source": [
    "X = X.drop('CPM_perc_Latest', axis = 1)\n",
    "calc_vif(X).sort_values(by = 'VIF', ascending = False)"
   ]
  },
  {
   "cell_type": "code",
   "execution_count": null,
   "metadata": {},
   "outputs": [],
   "source": [
    "X = X.drop('Curr_Assets', axis = 1)\n",
    "calc_vif(X).sort_values(by = 'VIF', ascending = False)"
   ]
  },
  {
   "cell_type": "code",
   "execution_count": null,
   "metadata": {},
   "outputs": [],
   "source": [
    "X = X.drop('PBIDT', axis = 1)\n",
    "calc_vif(X).sort_values(by = 'VIF', ascending = False)"
   ]
  },
  {
   "cell_type": "code",
   "execution_count": null,
   "metadata": {},
   "outputs": [],
   "source": [
    "X = X.drop('PBIDTM_perc_Latest', axis = 1)\n",
    "calc_vif(X).sort_values(by = 'VIF', ascending = False)"
   ]
  },
  {
   "cell_type": "code",
   "execution_count": null,
   "metadata": {},
   "outputs": [],
   "source": [
    "X = X.drop('ROG_PBDT_perc', axis = 1)\n",
    "calc_vif(X).sort_values(by = 'VIF', ascending = False)"
   ]
  },
  {
   "cell_type": "code",
   "execution_count": null,
   "metadata": {},
   "outputs": [],
   "source": [
    "X = X.drop('Capital_Employed', axis = 1)\n",
    "calc_vif(X).sort_values(by = 'VIF', ascending = False)"
   ]
  },
  {
   "cell_type": "code",
   "execution_count": null,
   "metadata": {},
   "outputs": [],
   "source": [
    "X = X.drop('PBT', axis = 1)\n",
    "calc_vif(X).sort_values(by = 'VIF', ascending = False)"
   ]
  },
  {
   "cell_type": "code",
   "execution_count": null,
   "metadata": {},
   "outputs": [],
   "source": [
    "X = X.drop('Book_Value_Unit_Curr', axis = 1)\n",
    "calc_vif(X).sort_values(by = 'VIF', ascending = False)"
   ]
  },
  {
   "cell_type": "code",
   "execution_count": null,
   "metadata": {},
   "outputs": [],
   "source": [
    "X = X.drop('CP', axis = 1)\n",
    "calc_vif(X).sort_values(by = 'VIF', ascending = False)"
   ]
  },
  {
   "cell_type": "code",
   "execution_count": null,
   "metadata": {},
   "outputs": [],
   "source": [
    "X = X.drop('Value_of_Output_to_Total_Assets', axis = 1)\n",
    "calc_vif(X).sort_values(by = 'VIF', ascending = False)"
   ]
  },
  {
   "cell_type": "code",
   "execution_count": null,
   "metadata": {},
   "outputs": [],
   "source": [
    "X = X.drop('ROG_PBIDT_perc', axis = 1)\n",
    "calc_vif(X).sort_values(by = 'VIF', ascending = False)"
   ]
  },
  {
   "cell_type": "code",
   "execution_count": null,
   "metadata": {},
   "outputs": [],
   "source": [
    "X = X.drop('Cost_of_Prod', axis = 1)\n",
    "calc_vif(X).sort_values(by = 'VIF', ascending = False)"
   ]
  },
  {
   "cell_type": "code",
   "execution_count": null,
   "metadata": {},
   "outputs": [],
   "source": [
    "X = X.drop('PBDTM_perc_Latest', axis = 1)\n",
    "calc_vif(X).sort_values(by = 'VIF', ascending = False)"
   ]
  },
  {
   "cell_type": "code",
   "execution_count": null,
   "metadata": {},
   "outputs": [],
   "source": [
    "X = X.drop('ROG_PBT_perc', axis = 1)\n",
    "calc_vif(X).sort_values(by = 'VIF', ascending = False)"
   ]
  },
  {
   "cell_type": "code",
   "execution_count": null,
   "metadata": {},
   "outputs": [],
   "source": [
    "X = X.drop('Gross_Block', axis = 1)\n",
    "calc_vif(X).sort_values(by = 'VIF', ascending = False)"
   ]
  },
  {
   "cell_type": "code",
   "execution_count": null,
   "metadata": {},
   "outputs": [],
   "source": [
    "X = X.drop('Curr_Liab_and_Prov', axis = 1)\n",
    "calc_vif(X).sort_values(by = 'VIF', ascending = False)"
   ]
  },
  {
   "cell_type": "code",
   "execution_count": null,
   "metadata": {},
   "outputs": [],
   "source": [
    "X = X.drop('Fixed_Assets_Ratio_Latest', axis = 1)\n",
    "calc_vif(X).sort_values(by = 'VIF', ascending = False)"
   ]
  },
  {
   "cell_type": "code",
   "execution_count": null,
   "metadata": {},
   "outputs": [],
   "source": [
    "X = X.drop('PBIT', axis = 1)\n",
    "calc_vif(X).sort_values(by = 'VIF', ascending = False)"
   ]
  },
  {
   "cell_type": "code",
   "execution_count": null,
   "metadata": {},
   "outputs": [],
   "source": [
    "X = X.drop('Networth', axis = 1)\n",
    "calc_vif(X).sort_values(by = 'VIF', ascending = False)"
   ]
  },
  {
   "cell_type": "code",
   "execution_count": null,
   "metadata": {},
   "outputs": [],
   "source": [
    "X = X.drop('APATM_perc_Latest', axis = 1)\n",
    "calc_vif(X).sort_values(by = 'VIF', ascending = False)"
   ]
  },
  {
   "cell_type": "code",
   "execution_count": null,
   "metadata": {},
   "outputs": [],
   "source": [
    "X = X.drop('ROG_PAT_perc', axis = 1)\n",
    "calc_vif(X).sort_values(by = 'VIF', ascending = False)"
   ]
  },
  {
   "cell_type": "code",
   "execution_count": null,
   "metadata": {},
   "outputs": [],
   "source": [
    "X = X.drop('Capital_exp_in_forex', axis = 1)"
   ]
  },
  {
   "cell_type": "code",
   "execution_count": null,
   "metadata": {},
   "outputs": [],
   "source": [
    "X = X.drop('ROG_Rev_earn_in_forex_perc', axis = 1)"
   ]
  },
  {
   "cell_type": "code",
   "execution_count": null,
   "metadata": {},
   "outputs": [],
   "source": [
    "X = X.drop('ROG_Rev_exp_in_forex_perc', axis = 1)"
   ]
  },
  {
   "cell_type": "code",
   "execution_count": null,
   "metadata": {},
   "outputs": [],
   "source": [
    "predictors = X\n",
    "response = df1['default']"
   ]
  },
  {
   "cell_type": "code",
   "execution_count": null,
   "metadata": {},
   "outputs": [],
   "source": [
    "from sklearn.preprocessing import StandardScaler\n",
    "scaler = StandardScaler()\n",
    "scaled_predictors = pd.DataFrame(scaler.fit_transform(predictors), columns = predictors.columns)"
   ]
  },
  {
   "cell_type": "code",
   "execution_count": null,
   "metadata": {},
   "outputs": [],
   "source": [
    "from sklearn.model_selection import train_test_split"
   ]
  },
  {
   "cell_type": "code",
   "execution_count": null,
   "metadata": {},
   "outputs": [],
   "source": [
    "X_train, X_test, y_train, y_test = train_test_split(scaled_predictors, response, \n",
    "                                                    test_size = 0.33, random_state = 42)"
   ]
  },
  {
   "cell_type": "code",
   "execution_count": null,
   "metadata": {},
   "outputs": [],
   "source": [
    "print(X_train.shape)\n",
    "print(X_test.shape)"
   ]
  },
  {
   "cell_type": "code",
   "execution_count": null,
   "metadata": {},
   "outputs": [],
   "source": [
    "print(y_train.value_counts(normalize = True).round(2))\n",
    "print(' ')\n",
    "print(y_test.value_counts(normalize = True).round(2))"
   ]
  },
  {
   "cell_type": "code",
   "execution_count": null,
   "metadata": {},
   "outputs": [],
   "source": [
    "pip install -U imbalanced-learn"
   ]
  },
  {
   "cell_type": "code",
   "execution_count": null,
   "metadata": {},
   "outputs": [],
   "source": [
    "from imblearn.over_sampling import SMOTE \n",
    "sm = SMOTE(random_state=33, sampling_strategy = 0.75)\n",
    "X_res, y_res = sm.fit_resample(X_train, y_train)"
   ]
  },
  {
   "cell_type": "code",
   "execution_count": null,
   "metadata": {},
   "outputs": [],
   "source": [
    "df1_smote = pd.concat([X_res, y_res], axis = 1)"
   ]
  },
  {
   "cell_type": "code",
   "execution_count": null,
   "metadata": {},
   "outputs": [],
   "source": [
    "df1.groupby('default').mean()"
   ]
  },
  {
   "cell_type": "code",
   "execution_count": null,
   "metadata": {},
   "outputs": [],
   "source": [
    "df1_smote.groupby('default').mean()"
   ]
  },
  {
   "cell_type": "code",
   "execution_count": null,
   "metadata": {},
   "outputs": [],
   "source": [
    "import statsmodels.formula.api as SM"
   ]
  },
  {
   "cell_type": "code",
   "execution_count": null,
   "metadata": {},
   "outputs": [],
   "source": [
    "train = pd.concat([X_train, y_train], axis = 1)\n",
    "train_smote = pd.concat([X_res, y_res], axis = 1)\n",
    "test = pd.concat([X_test, y_test], axis = 1)"
   ]
  },
  {
   "cell_type": "code",
   "execution_count": null,
   "metadata": {},
   "outputs": [],
   "source": [
    "X_train.columns"
   ]
  },
  {
   "cell_type": "code",
   "execution_count": null,
   "metadata": {},
   "outputs": [],
   "source": [
    "f_1 = 'default ~ Equity_Paid_Up + Total_Debt + Net_Working_Capital + Other_Income + Selling_Cost + Adjusted_PAT + Rev_earn_in_forex + Rev_exp_in_forex + Book_Value_Adj_Unit_Curr + Market_Capitalisation + CEPS_annualised_Unit_Curr + Cash_Flow_From_Opr + Cash_Flow_From_Inv + Cash_Flow_From_Fin + ROG_Net_Worth_perc + ROG_Capital_Employed_perc + ROG_Gross_Block_perc + ROG_Net_Sales_perc + ROG_Cost_of_Prod_perc + ROG_Total_Assets_perc + ROG_PBIT_perc + ROG_CP_perc + ROG_Market_Capitalisation_perc + Curr_Ratio_Latest + Inventory_Ratio_Latest + Debtors_Ratio_Latest + Total_Asset_Turnover_Ratio_Latest + Interest_Cover_Ratio_Latest + PBITM_perc_Latest + Debtors_Vel_Days + Creditors_Vel_Days + Inventory_Vel_Days + Value_of_Output_to_Gross_Block'"
   ]
  },
  {
   "cell_type": "code",
   "execution_count": null,
   "metadata": {},
   "outputs": [],
   "source": [
    "model_1 = SM.logit(formula = f_1, data= train).fit()"
   ]
  },
  {
   "cell_type": "code",
   "execution_count": null,
   "metadata": {},
   "outputs": [],
   "source": [
    "model_1.summary()"
   ]
  },
  {
   "cell_type": "code",
   "execution_count": null,
   "metadata": {},
   "outputs": [],
   "source": [
    "f_2 = 'default ~ Equity_Paid_Up + Total_Debt + Net_Working_Capital + Other_Income + Selling_Cost + Adjusted_PAT + Rev_earn_in_forex + Rev_exp_in_forex + Book_Value_Adj_Unit_Curr + Market_Capitalisation + CEPS_annualised_Unit_Curr + Cash_Flow_From_Opr + Cash_Flow_From_Inv + Cash_Flow_From_Fin + ROG_Net_Worth_perc + ROG_Capital_Employed_perc + ROG_Gross_Block_perc + ROG_Net_Sales_perc + ROG_Total_Assets_perc + ROG_PBIT_perc + ROG_CP_perc + ROG_Market_Capitalisation_perc + Curr_Ratio_Latest + Inventory_Ratio_Latest + Debtors_Ratio_Latest + Total_Asset_Turnover_Ratio_Latest + Interest_Cover_Ratio_Latest + PBITM_perc_Latest + Debtors_Vel_Days + Creditors_Vel_Days + Inventory_Vel_Days + Value_of_Output_to_Gross_Block' # ROG_Cost_of_Prod_perc"
   ]
  },
  {
   "cell_type": "code",
   "execution_count": null,
   "metadata": {},
   "outputs": [],
   "source": [
    "model_2 = SM.logit(formula = f_2, data= train).fit()"
   ]
  },
  {
   "cell_type": "code",
   "execution_count": null,
   "metadata": {},
   "outputs": [],
   "source": [
    "model_2.summary()"
   ]
  },
  {
   "cell_type": "code",
   "execution_count": null,
   "metadata": {},
   "outputs": [],
   "source": [
    "f_3 = 'default ~ Equity_Paid_Up + Total_Debt + Net_Working_Capital + Other_Income + Selling_Cost + Adjusted_PAT + Rev_earn_in_forex + Rev_exp_in_forex + Book_Value_Adj_Unit_Curr + Market_Capitalisation + CEPS_annualised_Unit_Curr + Cash_Flow_From_Opr + Cash_Flow_From_Inv + Cash_Flow_From_Fin + ROG_Net_Worth_perc + ROG_Capital_Employed_perc + ROG_Gross_Block_perc + ROG_Net_Sales_perc + ROG_Total_Assets_perc + ROG_PBIT_perc + ROG_CP_perc + ROG_Market_Capitalisation_perc + Curr_Ratio_Latest + Inventory_Ratio_Latest + Debtors_Ratio_Latest + Total_Asset_Turnover_Ratio_Latest + Interest_Cover_Ratio_Latest + PBITM_perc_Latest + Debtors_Vel_Days + Creditors_Vel_Days + Value_of_Output_to_Gross_Block' # Inventory_Vel_Days"
   ]
  },
  {
   "cell_type": "code",
   "execution_count": null,
   "metadata": {},
   "outputs": [],
   "source": [
    "model_3 = SM.logit(formula = f_3, data= train).fit()"
   ]
  },
  {
   "cell_type": "code",
   "execution_count": null,
   "metadata": {},
   "outputs": [],
   "source": [
    "model_3.summary()"
   ]
  },
  {
   "cell_type": "code",
   "execution_count": null,
   "metadata": {},
   "outputs": [],
   "source": [
    "f_4 = 'default ~ Equity_Paid_Up + Total_Debt + Net_Working_Capital + Other_Income + Adjusted_PAT + Rev_earn_in_forex + Rev_exp_in_forex + Book_Value_Adj_Unit_Curr + Market_Capitalisation + CEPS_annualised_Unit_Curr + Cash_Flow_From_Opr + Cash_Flow_From_Inv + Cash_Flow_From_Fin + ROG_Net_Worth_perc + ROG_Capital_Employed_perc + ROG_Gross_Block_perc + ROG_Net_Sales_perc + ROG_Total_Assets_perc + ROG_PBIT_perc + ROG_CP_perc + ROG_Market_Capitalisation_perc + Curr_Ratio_Latest + Inventory_Ratio_Latest + Debtors_Ratio_Latest + Total_Asset_Turnover_Ratio_Latest + Interest_Cover_Ratio_Latest + PBITM_perc_Latest + Debtors_Vel_Days + Creditors_Vel_Days + Value_of_Output_to_Gross_Block' # Selling_Cost"
   ]
  },
  {
   "cell_type": "code",
   "execution_count": null,
   "metadata": {},
   "outputs": [],
   "source": [
    "model_4 = SM.logit(formula = f_4, data= train).fit()"
   ]
  },
  {
   "cell_type": "code",
   "execution_count": null,
   "metadata": {},
   "outputs": [],
   "source": [
    "model_4.summary()"
   ]
  },
  {
   "cell_type": "code",
   "execution_count": null,
   "metadata": {},
   "outputs": [],
   "source": [
    "f_5 = 'default ~ Equity_Paid_Up + Total_Debt + Net_Working_Capital + Other_Income + Rev_earn_in_forex + Rev_exp_in_forex + Book_Value_Adj_Unit_Curr + Market_Capitalisation + CEPS_annualised_Unit_Curr + Cash_Flow_From_Opr + Cash_Flow_From_Inv + Cash_Flow_From_Fin + ROG_Net_Worth_perc + ROG_Capital_Employed_perc + ROG_Gross_Block_perc + ROG_Net_Sales_perc + ROG_Total_Assets_perc + ROG_PBIT_perc + ROG_CP_perc + ROG_Market_Capitalisation_perc + Curr_Ratio_Latest + Inventory_Ratio_Latest + Debtors_Ratio_Latest + Total_Asset_Turnover_Ratio_Latest + Interest_Cover_Ratio_Latest + PBITM_perc_Latest + Debtors_Vel_Days + Creditors_Vel_Days + Value_of_Output_to_Gross_Block' # Adjusted_PAT"
   ]
  },
  {
   "cell_type": "code",
   "execution_count": null,
   "metadata": {},
   "outputs": [],
   "source": [
    "model_5 = SM.logit(formula = f_5, data= train).fit()"
   ]
  },
  {
   "cell_type": "code",
   "execution_count": null,
   "metadata": {},
   "outputs": [],
   "source": [
    "model_5.summary()"
   ]
  },
  {
   "cell_type": "code",
   "execution_count": null,
   "metadata": {},
   "outputs": [],
   "source": [
    "f_6 = 'default ~ Equity_Paid_Up + Total_Debt + Net_Working_Capital + Other_Income + Rev_exp_in_forex + Book_Value_Adj_Unit_Curr + Market_Capitalisation + CEPS_annualised_Unit_Curr + Cash_Flow_From_Opr + Cash_Flow_From_Inv + Cash_Flow_From_Fin + ROG_Net_Worth_perc + ROG_Capital_Employed_perc + ROG_Gross_Block_perc + ROG_Net_Sales_perc + ROG_Total_Assets_perc + ROG_PBIT_perc + ROG_CP_perc + ROG_Market_Capitalisation_perc + Curr_Ratio_Latest + Inventory_Ratio_Latest + Debtors_Ratio_Latest + Total_Asset_Turnover_Ratio_Latest + Interest_Cover_Ratio_Latest + PBITM_perc_Latest + Debtors_Vel_Days + Creditors_Vel_Days + Value_of_Output_to_Gross_Block' # Rev_earn_in_forex"
   ]
  },
  {
   "cell_type": "code",
   "execution_count": null,
   "metadata": {},
   "outputs": [],
   "source": [
    "model_6 = SM.logit(formula = f_6, data= train).fit()"
   ]
  },
  {
   "cell_type": "code",
   "execution_count": null,
   "metadata": {},
   "outputs": [],
   "source": [
    "model_6.summary()"
   ]
  },
  {
   "cell_type": "code",
   "execution_count": null,
   "metadata": {},
   "outputs": [],
   "source": [
    "f_7 = 'default ~ Equity_Paid_Up + Total_Debt + Net_Working_Capital + Other_Income + Rev_exp_in_forex + Book_Value_Adj_Unit_Curr + Market_Capitalisation + CEPS_annualised_Unit_Curr + Cash_Flow_From_Opr + Cash_Flow_From_Inv + Cash_Flow_From_Fin + ROG_Net_Worth_perc + ROG_Capital_Employed_perc + ROG_Gross_Block_perc + ROG_Net_Sales_perc + ROG_Total_Assets_perc + ROG_PBIT_perc + ROG_Market_Capitalisation_perc + Curr_Ratio_Latest + Inventory_Ratio_Latest + Debtors_Ratio_Latest + Total_Asset_Turnover_Ratio_Latest + Interest_Cover_Ratio_Latest + PBITM_perc_Latest + Debtors_Vel_Days + Creditors_Vel_Days + Value_of_Output_to_Gross_Block' # ROG_CP_perc"
   ]
  },
  {
   "cell_type": "code",
   "execution_count": null,
   "metadata": {},
   "outputs": [],
   "source": [
    "model_7 = SM.logit(formula = f_7, data= train).fit()"
   ]
  },
  {
   "cell_type": "code",
   "execution_count": null,
   "metadata": {},
   "outputs": [],
   "source": [
    "model_7.summary()"
   ]
  },
  {
   "cell_type": "code",
   "execution_count": null,
   "metadata": {},
   "outputs": [],
   "source": [
    "f_8 = 'default ~ Equity_Paid_Up + Total_Debt + Net_Working_Capital + Other_Income + Rev_exp_in_forex + Book_Value_Adj_Unit_Curr + Market_Capitalisation + CEPS_annualised_Unit_Curr + Cash_Flow_From_Opr + Cash_Flow_From_Inv + Cash_Flow_From_Fin + ROG_Net_Worth_perc + ROG_Capital_Employed_perc + ROG_Gross_Block_perc + ROG_Net_Sales_perc + ROG_Total_Assets_perc + ROG_Market_Capitalisation_perc + Curr_Ratio_Latest + Inventory_Ratio_Latest + Debtors_Ratio_Latest + Total_Asset_Turnover_Ratio_Latest + Interest_Cover_Ratio_Latest + PBITM_perc_Latest + Debtors_Vel_Days + Creditors_Vel_Days + Value_of_Output_to_Gross_Block' # ROG_PBIT_perc"
   ]
  },
  {
   "cell_type": "code",
   "execution_count": null,
   "metadata": {},
   "outputs": [],
   "source": [
    "model_8 = SM.logit(formula = f_8, data= train).fit()"
   ]
  },
  {
   "cell_type": "code",
   "execution_count": null,
   "metadata": {},
   "outputs": [],
   "source": [
    "model_8.summary()"
   ]
  },
  {
   "cell_type": "code",
   "execution_count": null,
   "metadata": {},
   "outputs": [],
   "source": [
    "f_9 = 'default ~ Equity_Paid_Up + Total_Debt + Net_Working_Capital + Other_Income + Rev_exp_in_forex + Book_Value_Adj_Unit_Curr + Market_Capitalisation + CEPS_annualised_Unit_Curr + Cash_Flow_From_Opr + Cash_Flow_From_Inv + Cash_Flow_From_Fin + ROG_Net_Worth_perc + ROG_Capital_Employed_perc + ROG_Gross_Block_perc + ROG_Total_Assets_perc + ROG_Market_Capitalisation_perc + Curr_Ratio_Latest + Inventory_Ratio_Latest + Debtors_Ratio_Latest + Total_Asset_Turnover_Ratio_Latest + Interest_Cover_Ratio_Latest + PBITM_perc_Latest + Debtors_Vel_Days + Creditors_Vel_Days + Value_of_Output_to_Gross_Block' # ROG_Net_Sales_perc"
   ]
  },
  {
   "cell_type": "code",
   "execution_count": null,
   "metadata": {},
   "outputs": [],
   "source": [
    "model_9 = SM.logit(formula = f_9, data= train).fit()"
   ]
  },
  {
   "cell_type": "code",
   "execution_count": null,
   "metadata": {},
   "outputs": [],
   "source": [
    "model_9.summary()"
   ]
  },
  {
   "cell_type": "code",
   "execution_count": null,
   "metadata": {},
   "outputs": [],
   "source": [
    "f_10 = 'default ~ Equity_Paid_Up + Total_Debt + Net_Working_Capital + Other_Income + Rev_exp_in_forex + Book_Value_Adj_Unit_Curr + Market_Capitalisation + CEPS_annualised_Unit_Curr + Cash_Flow_From_Opr + Cash_Flow_From_Inv + ROG_Net_Worth_perc + ROG_Capital_Employed_perc + ROG_Gross_Block_perc + ROG_Total_Assets_perc + ROG_Market_Capitalisation_perc + Curr_Ratio_Latest + Inventory_Ratio_Latest + Debtors_Ratio_Latest + Total_Asset_Turnover_Ratio_Latest + Interest_Cover_Ratio_Latest + PBITM_perc_Latest + Debtors_Vel_Days + Creditors_Vel_Days + Value_of_Output_to_Gross_Block' # Cash_Flow_From_Fin"
   ]
  },
  {
   "cell_type": "code",
   "execution_count": null,
   "metadata": {},
   "outputs": [],
   "source": [
    "model_10 = SM.logit(formula = f_10, data= train).fit()"
   ]
  },
  {
   "cell_type": "code",
   "execution_count": null,
   "metadata": {},
   "outputs": [],
   "source": [
    "model_10.summary()"
   ]
  },
  {
   "cell_type": "code",
   "execution_count": null,
   "metadata": {},
   "outputs": [],
   "source": [
    "f_11 = 'default ~ Equity_Paid_Up + Total_Debt + Net_Working_Capital + Other_Income + Rev_exp_in_forex + Book_Value_Adj_Unit_Curr + Market_Capitalisation + CEPS_annualised_Unit_Curr + Cash_Flow_From_Opr + Cash_Flow_From_Inv + ROG_Net_Worth_perc + ROG_Capital_Employed_perc + ROG_Gross_Block_perc + ROG_Total_Assets_perc + Curr_Ratio_Latest + Inventory_Ratio_Latest + Debtors_Ratio_Latest + Total_Asset_Turnover_Ratio_Latest + Interest_Cover_Ratio_Latest + PBITM_perc_Latest + Debtors_Vel_Days + Creditors_Vel_Days + Value_of_Output_to_Gross_Block' # ROG_Market_Capitalisation_perc"
   ]
  },
  {
   "cell_type": "code",
   "execution_count": null,
   "metadata": {},
   "outputs": [],
   "source": [
    "model_11 = SM.logit(formula = f_11, data= train).fit()"
   ]
  },
  {
   "cell_type": "code",
   "execution_count": null,
   "metadata": {},
   "outputs": [],
   "source": [
    "model_11.summary()"
   ]
  },
  {
   "cell_type": "code",
   "execution_count": null,
   "metadata": {},
   "outputs": [],
   "source": [
    "f_12 = 'default ~ Equity_Paid_Up + Total_Debt + Other_Income + Rev_exp_in_forex + Book_Value_Adj_Unit_Curr + Market_Capitalisation + CEPS_annualised_Unit_Curr + Cash_Flow_From_Opr + Cash_Flow_From_Inv + ROG_Net_Worth_perc + ROG_Capital_Employed_perc + ROG_Gross_Block_perc + ROG_Total_Assets_perc + Curr_Ratio_Latest + Inventory_Ratio_Latest + Debtors_Ratio_Latest + Total_Asset_Turnover_Ratio_Latest + Interest_Cover_Ratio_Latest + PBITM_perc_Latest + Debtors_Vel_Days + Creditors_Vel_Days + Value_of_Output_to_Gross_Block' # Net_Working_Capital"
   ]
  },
  {
   "cell_type": "code",
   "execution_count": null,
   "metadata": {},
   "outputs": [],
   "source": [
    "model_12 = SM.logit(formula = f_12, data= train).fit()"
   ]
  },
  {
   "cell_type": "code",
   "execution_count": null,
   "metadata": {},
   "outputs": [],
   "source": [
    "model_12.summary()"
   ]
  },
  {
   "cell_type": "code",
   "execution_count": null,
   "metadata": {},
   "outputs": [],
   "source": [
    "f_13 = 'default ~ Equity_Paid_Up + Total_Debt + Other_Income + Rev_exp_in_forex + Book_Value_Adj_Unit_Curr + Market_Capitalisation + CEPS_annualised_Unit_Curr + Cash_Flow_From_Opr + Cash_Flow_From_Inv + ROG_Net_Worth_perc + ROG_Capital_Employed_perc + ROG_Total_Assets_perc + Curr_Ratio_Latest + Inventory_Ratio_Latest + Debtors_Ratio_Latest + Total_Asset_Turnover_Ratio_Latest + Interest_Cover_Ratio_Latest + PBITM_perc_Latest + Debtors_Vel_Days + Creditors_Vel_Days + Value_of_Output_to_Gross_Block' # ROG_Gross_Block_perc"
   ]
  },
  {
   "cell_type": "code",
   "execution_count": null,
   "metadata": {},
   "outputs": [],
   "source": [
    "model_13 = SM.logit(formula = f_13, data= train).fit()"
   ]
  },
  {
   "cell_type": "code",
   "execution_count": null,
   "metadata": {},
   "outputs": [],
   "source": [
    "model_13.summary()"
   ]
  },
  {
   "cell_type": "code",
   "execution_count": null,
   "metadata": {},
   "outputs": [],
   "source": [
    "f_14 = 'default ~ Equity_Paid_Up + Total_Debt + Other_Income + Rev_exp_in_forex + Book_Value_Adj_Unit_Curr + Market_Capitalisation + CEPS_annualised_Unit_Curr + Cash_Flow_From_Opr + ROG_Net_Worth_perc + ROG_Capital_Employed_perc + ROG_Total_Assets_perc + Curr_Ratio_Latest + Inventory_Ratio_Latest + Debtors_Ratio_Latest + Total_Asset_Turnover_Ratio_Latest + Interest_Cover_Ratio_Latest + PBITM_perc_Latest + Debtors_Vel_Days + Creditors_Vel_Days + Value_of_Output_to_Gross_Block' # Cash_Flow_From_Inv"
   ]
  },
  {
   "cell_type": "code",
   "execution_count": null,
   "metadata": {},
   "outputs": [],
   "source": [
    "model_14 = SM.logit(formula = f_14, data= train).fit()"
   ]
  },
  {
   "cell_type": "code",
   "execution_count": null,
   "metadata": {},
   "outputs": [],
   "source": [
    "model_14.summary()"
   ]
  },
  {
   "cell_type": "code",
   "execution_count": null,
   "metadata": {},
   "outputs": [],
   "source": [
    "f_15 = 'default ~ Equity_Paid_Up + Total_Debt + Other_Income + Rev_exp_in_forex + Book_Value_Adj_Unit_Curr + Market_Capitalisation + CEPS_annualised_Unit_Curr + Cash_Flow_From_Opr + ROG_Net_Worth_perc + ROG_Capital_Employed_perc + ROG_Total_Assets_perc + Curr_Ratio_Latest + Inventory_Ratio_Latest + Debtors_Ratio_Latest + Interest_Cover_Ratio_Latest + PBITM_perc_Latest + Debtors_Vel_Days + Creditors_Vel_Days + Value_of_Output_to_Gross_Block' # Total_Asset_Turnover_Ratio_Latest"
   ]
  },
  {
   "cell_type": "code",
   "execution_count": null,
   "metadata": {},
   "outputs": [],
   "source": [
    "model_15 = SM.logit(formula = f_15, data= train).fit()"
   ]
  },
  {
   "cell_type": "code",
   "execution_count": null,
   "metadata": {},
   "outputs": [],
   "source": [
    "model_15.summary()"
   ]
  },
  {
   "cell_type": "code",
   "execution_count": null,
   "metadata": {},
   "outputs": [],
   "source": [
    "f_16 = 'default ~ Equity_Paid_Up + Total_Debt + Rev_exp_in_forex + Book_Value_Adj_Unit_Curr + Market_Capitalisation + CEPS_annualised_Unit_Curr + Cash_Flow_From_Opr + ROG_Net_Worth_perc + ROG_Capital_Employed_perc + ROG_Total_Assets_perc + Curr_Ratio_Latest + Inventory_Ratio_Latest + Debtors_Ratio_Latest + Interest_Cover_Ratio_Latest + PBITM_perc_Latest + Debtors_Vel_Days + Creditors_Vel_Days + Value_of_Output_to_Gross_Block' # Other_Income"
   ]
  },
  {
   "cell_type": "code",
   "execution_count": null,
   "metadata": {},
   "outputs": [],
   "source": [
    "model_16 = SM.logit(formula = f_16, data= train).fit()"
   ]
  },
  {
   "cell_type": "code",
   "execution_count": null,
   "metadata": {},
   "outputs": [],
   "source": [
    "model_16.summary()"
   ]
  },
  {
   "cell_type": "code",
   "execution_count": null,
   "metadata": {},
   "outputs": [],
   "source": [
    "f_17 = 'default ~ Equity_Paid_Up + Total_Debt + Rev_exp_in_forex + Book_Value_Adj_Unit_Curr + Market_Capitalisation + CEPS_annualised_Unit_Curr + Cash_Flow_From_Opr + ROG_Net_Worth_perc + ROG_Capital_Employed_perc + ROG_Total_Assets_perc + Curr_Ratio_Latest + Inventory_Ratio_Latest + Debtors_Ratio_Latest + PBITM_perc_Latest + Debtors_Vel_Days + Creditors_Vel_Days + Value_of_Output_to_Gross_Block' # Interest_Cover_Ratio_Latest"
   ]
  },
  {
   "cell_type": "code",
   "execution_count": null,
   "metadata": {},
   "outputs": [],
   "source": [
    "model_17 = SM.logit(formula = f_17, data= train).fit()"
   ]
  },
  {
   "cell_type": "code",
   "execution_count": null,
   "metadata": {},
   "outputs": [],
   "source": [
    "model_17.summary()"
   ]
  },
  {
   "cell_type": "code",
   "execution_count": null,
   "metadata": {},
   "outputs": [],
   "source": [
    "f_18 = 'default ~ Equity_Paid_Up + Total_Debt + Book_Value_Adj_Unit_Curr + Market_Capitalisation + CEPS_annualised_Unit_Curr + Cash_Flow_From_Opr + ROG_Net_Worth_perc + ROG_Capital_Employed_perc + ROG_Total_Assets_perc + Curr_Ratio_Latest + Inventory_Ratio_Latest + Debtors_Ratio_Latest + PBITM_perc_Latest + Debtors_Vel_Days + Creditors_Vel_Days + Value_of_Output_to_Gross_Block' # Rev_exp_in_forex"
   ]
  },
  {
   "cell_type": "code",
   "execution_count": null,
   "metadata": {},
   "outputs": [],
   "source": [
    "model_18 = SM.logit(formula = f_18, data= train).fit()"
   ]
  },
  {
   "cell_type": "code",
   "execution_count": null,
   "metadata": {},
   "outputs": [],
   "source": [
    "model_18.summary()"
   ]
  },
  {
   "cell_type": "code",
   "execution_count": null,
   "metadata": {},
   "outputs": [],
   "source": [
    "f_19 = 'default ~ Equity_Paid_Up + Total_Debt + Book_Value_Adj_Unit_Curr + Market_Capitalisation + CEPS_annualised_Unit_Curr + ROG_Net_Worth_perc + ROG_Capital_Employed_perc + ROG_Total_Assets_perc + Curr_Ratio_Latest + Inventory_Ratio_Latest + Debtors_Ratio_Latest + PBITM_perc_Latest + Debtors_Vel_Days + Creditors_Vel_Days + Value_of_Output_to_Gross_Block' # Cash_Flow_From_Opr"
   ]
  },
  {
   "cell_type": "code",
   "execution_count": null,
   "metadata": {},
   "outputs": [],
   "source": [
    "model_19 = SM.logit(formula = f_19, data= train).fit()"
   ]
  },
  {
   "cell_type": "code",
   "execution_count": null,
   "metadata": {},
   "outputs": [],
   "source": [
    "model_19.summary()"
   ]
  },
  {
   "cell_type": "code",
   "execution_count": null,
   "metadata": {},
   "outputs": [],
   "source": [
    "f_20 = 'default ~ Equity_Paid_Up + Total_Debt + Book_Value_Adj_Unit_Curr + Market_Capitalisation + CEPS_annualised_Unit_Curr + ROG_Net_Worth_perc + ROG_Capital_Employed_perc + ROG_Total_Assets_perc + Curr_Ratio_Latest + Debtors_Ratio_Latest + PBITM_perc_Latest + Debtors_Vel_Days + Creditors_Vel_Days + Value_of_Output_to_Gross_Block' # Inventory_Ratio_Latest"
   ]
  },
  {
   "cell_type": "code",
   "execution_count": null,
   "metadata": {},
   "outputs": [],
   "source": [
    "model_20 = SM.logit(formula = f_20, data= train).fit()"
   ]
  },
  {
   "cell_type": "code",
   "execution_count": null,
   "metadata": {},
   "outputs": [],
   "source": [
    "model_20.summary()"
   ]
  },
  {
   "cell_type": "code",
   "execution_count": null,
   "metadata": {},
   "outputs": [],
   "source": [
    "f_21 = 'default ~ Equity_Paid_Up + Total_Debt + Book_Value_Adj_Unit_Curr + Market_Capitalisation + CEPS_annualised_Unit_Curr + ROG_Net_Worth_perc + ROG_Capital_Employed_perc + ROG_Total_Assets_perc + Curr_Ratio_Latest + Debtors_Ratio_Latest + PBITM_perc_Latest + Debtors_Vel_Days + Value_of_Output_to_Gross_Block' # Creditors_Vel_Days"
   ]
  },
  {
   "cell_type": "code",
   "execution_count": null,
   "metadata": {},
   "outputs": [],
   "source": [
    "model_21 = SM.logit(formula = f_21, data= train).fit()"
   ]
  },
  {
   "cell_type": "code",
   "execution_count": null,
   "metadata": {},
   "outputs": [],
   "source": [
    "model_21.summary()"
   ]
  },
  {
   "cell_type": "code",
   "execution_count": null,
   "metadata": {},
   "outputs": [],
   "source": [
    "f_22 = 'default ~ Equity_Paid_Up + Total_Debt + Book_Value_Adj_Unit_Curr + CEPS_annualised_Unit_Curr + ROG_Net_Worth_perc + ROG_Capital_Employed_perc + ROG_Total_Assets_perc + Curr_Ratio_Latest + Debtors_Ratio_Latest + PBITM_perc_Latest + Debtors_Vel_Days + Value_of_Output_to_Gross_Block' # Market_Capitalisation"
   ]
  },
  {
   "cell_type": "code",
   "execution_count": null,
   "metadata": {},
   "outputs": [],
   "source": [
    "model_22 = SM.logit(formula = f_22, data= train).fit()"
   ]
  },
  {
   "cell_type": "code",
   "execution_count": null,
   "metadata": {},
   "outputs": [],
   "source": [
    "model_22.summary()"
   ]
  },
  {
   "cell_type": "code",
   "execution_count": null,
   "metadata": {},
   "outputs": [],
   "source": [
    "f_23 = 'default ~ Equity_Paid_Up + Total_Debt + Book_Value_Adj_Unit_Curr + CEPS_annualised_Unit_Curr + ROG_Net_Worth_perc + ROG_Capital_Employed_perc + Curr_Ratio_Latest + Debtors_Ratio_Latest + PBITM_perc_Latest + Debtors_Vel_Days + Value_of_Output_to_Gross_Block' # ROG_Total_Assets_perc"
   ]
  },
  {
   "cell_type": "code",
   "execution_count": null,
   "metadata": {},
   "outputs": [],
   "source": [
    "model_23 = SM.logit(formula = f_23, data= train).fit()"
   ]
  },
  {
   "cell_type": "code",
   "execution_count": null,
   "metadata": {},
   "outputs": [],
   "source": [
    "model_23.summary()"
   ]
  },
  {
   "cell_type": "code",
   "execution_count": null,
   "metadata": {},
   "outputs": [],
   "source": [
    "f_24 = 'default ~ Equity_Paid_Up + Total_Debt + Book_Value_Adj_Unit_Curr + CEPS_annualised_Unit_Curr + ROG_Net_Worth_perc + Curr_Ratio_Latest + Debtors_Ratio_Latest + PBITM_perc_Latest + Debtors_Vel_Days + Value_of_Output_to_Gross_Block' # ROG_Capital_Employed_perc"
   ]
  },
  {
   "cell_type": "code",
   "execution_count": null,
   "metadata": {},
   "outputs": [],
   "source": [
    "model_24 = SM.logit(formula = f_24, data= train).fit()"
   ]
  },
  {
   "cell_type": "code",
   "execution_count": null,
   "metadata": {},
   "outputs": [],
   "source": [
    "model_24.summary()"
   ]
  },
  {
   "cell_type": "code",
   "execution_count": null,
   "metadata": {},
   "outputs": [],
   "source": [
    "f_25 = 'default ~ Equity_Paid_Up + Total_Debt + Book_Value_Adj_Unit_Curr + CEPS_annualised_Unit_Curr + Curr_Ratio_Latest + Debtors_Ratio_Latest + PBITM_perc_Latest + Debtors_Vel_Days + Value_of_Output_to_Gross_Block' # ROG_Net_Worth_perc"
   ]
  },
  {
   "cell_type": "code",
   "execution_count": null,
   "metadata": {},
   "outputs": [],
   "source": [
    "model_25 = SM.logit(formula = f_25, data= train).fit()"
   ]
  },
  {
   "cell_type": "code",
   "execution_count": null,
   "metadata": {},
   "outputs": [],
   "source": [
    "model_25.summary()"
   ]
  },
  {
   "cell_type": "code",
   "execution_count": null,
   "metadata": {},
   "outputs": [],
   "source": [
    "y_prob_pred_train = model_25.predict(train)"
   ]
  },
  {
   "cell_type": "code",
   "execution_count": null,
   "metadata": {},
   "outputs": [],
   "source": [
    "y_class_pred=[]\n",
    "for i in range(0,len(y_prob_pred_train)):\n",
    "    if np.array(y_prob_pred_train)[i]>0.5:\n",
    "        a=1\n",
    "    else:\n",
    "        a=0\n",
    "    y_class_pred.append(a)"
   ]
  },
  {
   "cell_type": "code",
   "execution_count": null,
   "metadata": {},
   "outputs": [],
   "source": [
    "from sklearn import metrics"
   ]
  },
  {
   "cell_type": "code",
   "execution_count": null,
   "metadata": {},
   "outputs": [],
   "source": [
    "from pylab import rcParams\n",
    "rcParams['figure.figsize'] = 10,6"
   ]
  },
  {
   "cell_type": "code",
   "execution_count": null,
   "metadata": {},
   "outputs": [],
   "source": [
    "sns.heatmap((metrics.confusion_matrix(train['default'],y_class_pred)),annot=True,fmt='.5g'\n",
    "            ,cmap='Blues');\n",
    "plt.xlabel('Predicted');\n",
    "plt.ylabel('Actuals',rotation=0);"
   ]
  },
  {
   "cell_type": "code",
   "execution_count": null,
   "metadata": {},
   "outputs": [],
   "source": [
    "print(metrics.classification_report(train['default'],y_class_pred,digits=3))"
   ]
  },
  {
   "cell_type": "code",
   "execution_count": null,
   "metadata": {},
   "outputs": [],
   "source": [
    "from sklearn.metrics import roc_curve\n",
    "fpr, tpr, thresholds = roc_curve(train['default'],y_prob_pred_train)"
   ]
  },
  {
   "cell_type": "code",
   "execution_count": null,
   "metadata": {},
   "outputs": [],
   "source": [
    "optimal_idx = np.argmax(tpr - fpr)\n",
    "optimal_threshold = thresholds[optimal_idx]\n",
    "optimal_threshold"
   ]
  },
  {
   "cell_type": "code",
   "execution_count": null,
   "metadata": {},
   "outputs": [],
   "source": [
    "y_class_pred=[]\n",
    "for i in range(0,len(y_prob_pred_train)):\n",
    "    if np.array(y_prob_pred_train)[i]>0.11:\n",
    "        a=1\n",
    "    else:\n",
    "        a=0\n",
    "    y_class_pred.append(a)"
   ]
  },
  {
   "cell_type": "code",
   "execution_count": null,
   "metadata": {},
   "outputs": [],
   "source": [
    "sns.heatmap((metrics.confusion_matrix(train['default'],y_class_pred)),annot=True,fmt='.5g'\n",
    "            ,cmap='Blues');\n",
    "plt.xlabel('Predicted');\n",
    "plt.ylabel('Actuals',rotation=0);"
   ]
  },
  {
   "cell_type": "code",
   "execution_count": null,
   "metadata": {},
   "outputs": [],
   "source": [
    "print(metrics.classification_report(train['default'],y_class_pred,digits=3))"
   ]
  },
  {
   "cell_type": "code",
   "execution_count": null,
   "metadata": {},
   "outputs": [],
   "source": [
    "y_prob_pred_test = model_25.predict(test)"
   ]
  },
  {
   "cell_type": "code",
   "execution_count": null,
   "metadata": {},
   "outputs": [],
   "source": [
    "y_class_pred=[]\n",
    "for i in range(0,len(y_prob_pred_test)):\n",
    "    if np.array(y_prob_pred_test)[i]>0.11:\n",
    "        a=1\n",
    "    else:\n",
    "        a=0\n",
    "    y_class_pred.append(a)"
   ]
  },
  {
   "cell_type": "code",
   "execution_count": null,
   "metadata": {},
   "outputs": [],
   "source": [
    "sns.heatmap((metrics.confusion_matrix(test['default'],y_class_pred)),annot=True,fmt='.5g'\n",
    "            ,cmap='Blues');\n",
    "plt.xlabel('Predicted');\n",
    "plt.ylabel('Actuals',rotation=0);"
   ]
  },
  {
   "cell_type": "code",
   "execution_count": null,
   "metadata": {},
   "outputs": [],
   "source": [
    "print(metrics.classification_report(test['default'],y_class_pred,digits=3))"
   ]
  },
  {
   "cell_type": "code",
   "execution_count": null,
   "metadata": {},
   "outputs": [],
   "source": [
    "y_prob_pred_train_smote = model_25.predict(train_smote)"
   ]
  },
  {
   "cell_type": "code",
   "execution_count": null,
   "metadata": {},
   "outputs": [],
   "source": [
    "y_class_pred=[]\n",
    "for i in range(0,len(y_prob_pred_train_smote)):\n",
    "    if np.array(y_prob_pred_train_smote)[i]>0.11:\n",
    "        a=1\n",
    "    else:\n",
    "        a=0\n",
    "    y_class_pred.append(a)"
   ]
  },
  {
   "cell_type": "code",
   "execution_count": null,
   "metadata": {},
   "outputs": [],
   "source": [
    "sns.heatmap((metrics.confusion_matrix(train_smote['default'],y_class_pred)),annot=True,fmt='.5g'\n",
    "            ,cmap='Blues');\n",
    "plt.xlabel('Predicted');\n",
    "plt.ylabel('Actuals',rotation=0);"
   ]
  },
  {
   "cell_type": "code",
   "execution_count": null,
   "metadata": {},
   "outputs": [],
   "source": [
    "print(metrics.classification_report(train_smote['default'],y_class_pred,digits=3))"
   ]
  },
  {
   "cell_type": "markdown",
   "metadata": {},
   "source": [
    "# Milestone 2"
   ]
  },
  {
   "cell_type": "markdown",
   "metadata": {},
   "source": [
    "# Train Test Split"
   ]
  },
  {
   "cell_type": "code",
   "execution_count": null,
   "metadata": {},
   "outputs": [],
   "source": [
    "X =df1.drop('default', axis=1)\n",
    "Y =df1[['default']]"
   ]
  },
  {
   "cell_type": "markdown",
   "metadata": {},
   "source": [
    "# Linear Discriminent Analysis"
   ]
  },
  {
   "cell_type": "code",
   "execution_count": null,
   "metadata": {},
   "outputs": [],
   "source": [
    "from sklearn.metrics import roc_auc_score,roc_curve,classification_report,confusion_matrix\n",
    "from sklearn.discriminant_analysis import LinearDiscriminantAnalysis\n",
    "clf = LinearDiscriminantAnalysis()\n",
    "lda_model=clf.fit(X_train,y_train)\n",
    "lda_model\n",
    "from sklearn import metrics"
   ]
  },
  {
   "cell_type": "code",
   "execution_count": null,
   "metadata": {},
   "outputs": [],
   "source": [
    "# Model Prediction\n",
    "pred_class_train = lda_model.predict(X_train)\n",
    "pred_class_test = lda_model.predict(X_test)"
   ]
  },
  {
   "cell_type": "code",
   "execution_count": null,
   "metadata": {},
   "outputs": [],
   "source": [
    "# Probabilities\n",
    "pred_train_lda_prob = lda_model.predict_proba(X_train)[:,1]\n",
    "pred_test_lda_prob = lda_model.predict_proba(X_test)[:,1]"
   ]
  },
  {
   "cell_type": "markdown",
   "metadata": {},
   "source": [
    "# Train Data"
   ]
  },
  {
   "cell_type": "code",
   "execution_count": null,
   "metadata": {},
   "outputs": [],
   "source": [
    "#Accuracy\n",
    "lda_train_acc=lda_model.score(X_train, y_train)\n",
    "lda_train_acc"
   ]
  },
  {
   "cell_type": "code",
   "execution_count": null,
   "metadata": {},
   "outputs": [],
   "source": [
    "optimal_idx = np.argmax(tpr - fpr)\n",
    "optimal_threshold = thresholds[optimal_idx]\n",
    "optimal_threshold"
   ]
  },
  {
   "cell_type": "code",
   "execution_count": null,
   "metadata": {},
   "outputs": [],
   "source": [
    "# calculate AUC\n",
    "lda_train_auc = roc_auc_score(train['default'], pred_train_lda_prob)\n",
    "print('AUC: %.3f' % lda_train_auc)\n",
    "# calculate roc curve\n",
    "lda_train_fpr, lda_train_tpr, lda_train_thresholds = roc_curve(train['default'], pred_train_lda_prob)\n",
    "plt.plot([0, 1], [0, 1], linestyle='--')\n",
    "# plot the roc curve for the model\n",
    "plt.plot(lda_train_fpr, lda_train_tpr)\n",
    "plt.title('LDA - Train Data - Model on unbalanced Data')"
   ]
  },
  {
   "cell_type": "code",
   "execution_count": null,
   "metadata": {},
   "outputs": [],
   "source": [
    "y_class_pred_OCO=[]\n",
    "for i in range(0,len(pred_train_lda_prob)):\n",
    "    if np.array(pred_train_lda_prob)[i]>0.13:\n",
    "        a=1\n",
    "    else:\n",
    "        a=0\n",
    "    y_class_pred_OCO.append(a)"
   ]
  },
  {
   "cell_type": "code",
   "execution_count": null,
   "metadata": {},
   "outputs": [],
   "source": [
    "confusion_matrix(y_train, y_class_pred_OCO)"
   ]
  },
  {
   "cell_type": "code",
   "execution_count": null,
   "metadata": {},
   "outputs": [],
   "source": [
    "print(metrics.classification_report(y_train, y_class_pred_OCO))"
   ]
  },
  {
   "cell_type": "code",
   "execution_count": null,
   "metadata": {},
   "outputs": [],
   "source": [
    "# 3 Values\n",
    "metrics=classification_report(y_train, y_class_pred_OCO,output_dict=True)\n",
    "df=pd.DataFrame(metrics).transpose()\n",
    "lda_train_f1=round(df.loc[\"1\"][2],2)\n",
    "lda_train_recall=round(df.loc[\"1\"][1],2)\n",
    "lda_train_precision=round(df.loc[\"1\"][0],2)\n",
    "print ('train_precision ',lda_train_precision)\n",
    "print ('train_recall ',lda_train_recall)\n",
    "print ('train_f1 ',lda_train_f1)"
   ]
  },
  {
   "cell_type": "markdown",
   "metadata": {},
   "source": [
    "# Test Data"
   ]
  },
  {
   "cell_type": "code",
   "execution_count": null,
   "metadata": {},
   "outputs": [],
   "source": [
    "#Accuracy\n",
    "lda_test_acc=lda_model.score(X_test, y_test)\n",
    "lda_test_acc"
   ]
  },
  {
   "cell_type": "code",
   "execution_count": null,
   "metadata": {},
   "outputs": [],
   "source": [
    "'''\n",
    " #AUC and ROC for the Test data - Model on unbalanced data\n",
    "\n",
    "'''\n",
    "# calculate AUC\n",
    "lda_test_auc = roc_auc_score(test['default'], pred_test_lda_prob)\n",
    "print('AUC: %.3f' % lda_test_auc)\n",
    "# calculate roc curve\n",
    "lda_test_fpr, lda_test_tpr, lda_test_thresholds = roc_curve(test['default'], pred_test_lda_prob)\n",
    "plt.plot([0, 1], [0, 1], linestyle='--')\n",
    "# plot the roc curve for the model\n",
    "plt.plot(lda_test_fpr, lda_test_tpr)\n",
    "plt.title('LDA - Test Data - Model on unbalanced Data')"
   ]
  },
  {
   "cell_type": "code",
   "execution_count": null,
   "metadata": {},
   "outputs": [],
   "source": [
    "y_class_pred_test_CO=[]\n",
    "for i in range(0,len(pred_test_lda_prob)):\n",
    "    if np.array(pred_test_lda_prob)[i]>0.13:\n",
    "        a=1\n",
    "    else:\n",
    "        a=0\n",
    "    y_class_pred_test_CO.append(a)"
   ]
  },
  {
   "cell_type": "code",
   "execution_count": null,
   "metadata": {},
   "outputs": [],
   "source": [
    "confusion_matrix(y_test, y_class_pred_test_CO)"
   ]
  },
  {
   "cell_type": "code",
   "execution_count": null,
   "metadata": {
    "scrolled": true
   },
   "outputs": [],
   "source": [
    "print(classification_report(y_test,y_class_pred_test_CO))"
   ]
  },
  {
   "cell_type": "code",
   "execution_count": null,
   "metadata": {},
   "outputs": [],
   "source": [
    "# 3 Values\n",
    "metrics=classification_report(y_test, y_class_pred_test_CO,output_dict=True)\n",
    "df=pd.DataFrame(metrics).transpose()\n",
    "lda_test_f1=round(df.loc[\"1\"][2],2)\n",
    "lda_test_recall=round(df.loc[\"1\"][1],2)\n",
    "lda_test_precision=round(df.loc[\"1\"][0],2)\n",
    "print ('train_precision ',lda_test_precision)\n",
    "print ('train_recall ',lda_test_recall)\n",
    "print ('train_f1 ',lda_test_f1)"
   ]
  },
  {
   "cell_type": "markdown",
   "metadata": {},
   "source": [
    "# Logistic Regression"
   ]
  },
  {
   "cell_type": "code",
   "execution_count": null,
   "metadata": {},
   "outputs": [],
   "source": [
    "from sklearn.linear_model import LogisticRegression\n",
    "lr_model = LogisticRegression(solver='newton-cg',max_iter=20000,penalty='none',verbose=True,n_jobs=2)\n",
    "lr_model.fit(X_train, y_train)"
   ]
  },
  {
   "cell_type": "code",
   "execution_count": null,
   "metadata": {},
   "outputs": [],
   "source": [
    "# Predicting on Training and Test dataset\n",
    "Ytrain_predict = lr_model.predict(X_train)\n",
    "Ytest_predict = lr_model.predict(X_test)"
   ]
  },
  {
   "cell_type": "code",
   "execution_count": null,
   "metadata": {},
   "outputs": [],
   "source": [
    "# Getting the Predicted Classes and Probs\n",
    "Ytrain_predict_prob_lr=lr_model.predict_proba(X_train)\n",
    "pd.DataFrame(Ytrain_predict_prob_lr).head()"
   ]
  },
  {
   "cell_type": "markdown",
   "metadata": {},
   "source": [
    "# Train Data"
   ]
  },
  {
   "cell_type": "code",
   "execution_count": null,
   "metadata": {},
   "outputs": [],
   "source": [
    "#Accuracy\n",
    "lr_train_acc=lr_model.score(X_train, y_train)\n",
    "lr_train_acc"
   ]
  },
  {
   "cell_type": "code",
   "execution_count": null,
   "metadata": {},
   "outputs": [],
   "source": [
    "# AUC curve\n",
    "probs = lr_model.predict_proba(X_train)\n",
    "probs = probs[:, 1]\n",
    "lr_train_auc = roc_auc_score(y_train, probs)\n",
    "lr_train_fpr, lr_train_tpr, lr_train_thresholds = roc_curve(y_train, probs)\n",
    "print('AUC: %.3f' % lr_train_auc)\n",
    "plt.plot([0, 1], [0, 1], linestyle='--')\n",
    "plt.plot(lr_train_fpr, lr_train_tpr)"
   ]
  },
  {
   "cell_type": "code",
   "execution_count": null,
   "metadata": {},
   "outputs": [],
   "source": [
    "optimal_idx = np.argmax(lr_train_tpr - lr_train_fpr)\n",
    "optimal_threshold = lr_train_thresholds[optimal_idx]\n",
    "optimal_threshold"
   ]
  },
  {
   "cell_type": "code",
   "execution_count": null,
   "metadata": {},
   "outputs": [],
   "source": [
    "Y_train_pred=[]\n",
    "for i in range(0,len(probs)):\n",
    "    if np.array(probs)[i]>0.25:\n",
    "        a=1\n",
    "    else:\n",
    "        a=0\n",
    "    Y_train_pred.append(a)"
   ]
  },
  {
   "cell_type": "code",
   "execution_count": null,
   "metadata": {},
   "outputs": [],
   "source": [
    "# Confusion matrix\n",
    "confusion_matrix(y_train, Y_train_pred)"
   ]
  },
  {
   "cell_type": "code",
   "execution_count": null,
   "metadata": {},
   "outputs": [],
   "source": [
    "# Classification Report\n",
    "print(classification_report(y_train, Y_train_pred))"
   ]
  },
  {
   "cell_type": "code",
   "execution_count": null,
   "metadata": {},
   "outputs": [],
   "source": [
    "#3 values\n",
    "metrics=classification_report(y_train, Y_train_pred,output_dict=True)\n",
    "df=pd.DataFrame(metrics).transpose()\n",
    "lr_train_f1=round(df.loc[\"1\"][2],2)\n",
    "lr_train_recall=round(df.loc[\"1\"][1],2)\n",
    "lr_train_precision=round(df.loc[\"1\"][0],2)\n",
    "print ('train_precision ',lr_train_precision)\n",
    "print ('train_recall ',lr_train_recall)\n",
    "print ('train_f1 ',lr_train_f1)"
   ]
  },
  {
   "cell_type": "markdown",
   "metadata": {},
   "source": [
    "# Test Data"
   ]
  },
  {
   "cell_type": "code",
   "execution_count": null,
   "metadata": {},
   "outputs": [],
   "source": [
    "# Getting the Predicted Classes and Probs\n",
    "Ytest_predict_prob_lr=lr_model.predict_proba(X_test)\n",
    "pd.DataFrame(Ytest_predict_prob_lr).head()"
   ]
  },
  {
   "cell_type": "code",
   "execution_count": null,
   "metadata": {},
   "outputs": [],
   "source": [
    "#Accuracy\n",
    "lr_test_acc=lr_model.score(X_test, y_test)\n",
    "lr_test_acc"
   ]
  },
  {
   "cell_type": "code",
   "execution_count": null,
   "metadata": {},
   "outputs": [],
   "source": [
    "# Auc curve\n",
    "probs = lr_model.predict_proba(X_test)\n",
    "probs = probs[:, 1]\n",
    "lr_test_auc = roc_auc_score(y_test, probs)\n",
    "lr_test_fpr, lr_test_tpr, lr_test_thresholds = roc_curve(y_test, probs)\n",
    "print('AUC: %.3f' % lr_test_auc)\n",
    "plt.plot([0, 1], [0, 1], linestyle='--')\n",
    "plt.plot(lr_test_fpr, lr_test_tpr)"
   ]
  },
  {
   "cell_type": "code",
   "execution_count": null,
   "metadata": {},
   "outputs": [],
   "source": [
    "Y_test_pred=[]\n",
    "for i in range(0,len(probs)):\n",
    "    if np.array(probs)[i]>0.25:\n",
    "        a=1\n",
    "    else:\n",
    "        a=0\n",
    "    Y_test_pred.append(a)"
   ]
  },
  {
   "cell_type": "code",
   "execution_count": null,
   "metadata": {},
   "outputs": [],
   "source": [
    "# Confusion matrix\n",
    "confusion_matrix(y_test, Y_test_pred)"
   ]
  },
  {
   "cell_type": "code",
   "execution_count": null,
   "metadata": {},
   "outputs": [],
   "source": [
    "# Classification matrix\n",
    "print(classification_report(y_test, Y_test_pred))"
   ]
  },
  {
   "cell_type": "code",
   "execution_count": null,
   "metadata": {},
   "outputs": [],
   "source": [
    "# 3 values\n",
    "metrics=classification_report(y_test, Y_test_pred,output_dict=True)\n",
    "df=pd.DataFrame(metrics).transpose()\n",
    "lr_test_f1=round(df.loc[\"1\"][2],2)\n",
    "lr_test_recall=round(df.loc[\"1\"][1],2)\n",
    "lr_test_precision=round(df.loc[\"1\"][0],2)\n",
    "print ('test_precision ',lr_test_precision)\n",
    "print ('test_recall ',lr_test_recall)\n",
    "print ('test_f1 ',lr_test_f1)"
   ]
  },
  {
   "cell_type": "markdown",
   "metadata": {},
   "source": [
    "# Random Forest Classifier"
   ]
  },
  {
   "cell_type": "code",
   "execution_count": null,
   "metadata": {},
   "outputs": [],
   "source": [
    "from sklearn.ensemble import RandomForestClassifier\n",
    "from sklearn.model_selection import GridSearchCV"
   ]
  },
  {
   "cell_type": "code",
   "execution_count": null,
   "metadata": {},
   "outputs": [],
   "source": [
    "param_grid = {\n",
    "    'max_depth': [5,7,10],\n",
    "    'max_features': [6,8,10],\n",
    "    'min_samples_leaf': [5,10],\n",
    "    'min_samples_split': [50,100],\n",
    "    'n_estimators': [300,500,800],\n",
    "    \n",
    "}\n",
    "rfcl=RandomForestClassifier()\n",
    "grid_search_RF=GridSearchCV(estimator=rfcl,param_grid=param_grid,cv=10)"
   ]
  },
  {
   "cell_type": "code",
   "execution_count": null,
   "metadata": {},
   "outputs": [],
   "source": [
    "grid_search_RF.fit(X_train,y_train)"
   ]
  },
  {
   "cell_type": "code",
   "execution_count": null,
   "metadata": {},
   "outputs": [],
   "source": [
    "grid_search_RF.best_params_"
   ]
  },
  {
   "cell_type": "code",
   "execution_count": null,
   "metadata": {},
   "outputs": [],
   "source": [
    "best_grid_RF=grid_search_RF.best_estimator_\n",
    "best_grid_RF"
   ]
  },
  {
   "cell_type": "code",
   "execution_count": null,
   "metadata": {},
   "outputs": [],
   "source": [
    "print (pd.DataFrame(best_grid_RF.feature_importances_, columns = [\"Imp\"], index = X_train.columns).sort_values('Imp',ascending=False))"
   ]
  },
  {
   "cell_type": "code",
   "execution_count": null,
   "metadata": {},
   "outputs": [],
   "source": [
    "# predicting Train and Test\n",
    "Ytrain_predict = best_grid_RF.predict(X_train)\n",
    "Ytest_predict = best_grid_RF.predict(X_test)"
   ]
  },
  {
   "cell_type": "markdown",
   "metadata": {},
   "source": [
    "# Train data"
   ]
  },
  {
   "cell_type": "code",
   "execution_count": null,
   "metadata": {},
   "outputs": [],
   "source": [
    "# Accuracy\n",
    "rf_train_acc=best_grid_RF.score(X_train,y_train)\n",
    "rf_train_acc"
   ]
  },
  {
   "cell_type": "code",
   "execution_count": null,
   "metadata": {},
   "outputs": [],
   "source": [
    "# AUC \n",
    "rf_train_fpr, rf_train_tpr,_= roc_curve(y_train,best_grid_RF.predict_proba(X_train)[:,1])\n",
    "plt.plot(rf_train_fpr,rf_train_tpr,color='green')\n",
    "plt.plot([0, 1], [0, 1], linestyle='--')\n",
    "plt.xlabel('False Positive Rate')\n",
    "plt.ylabel('True Positive Rate')\n",
    "plt.title('ROC')\n",
    "rf_train_auc=roc_auc_score(y_train,best_grid_RF.predict_proba(X_train)[:,1])\n",
    "print('Area under Curve is', rf_train_auc)"
   ]
  },
  {
   "cell_type": "code",
   "execution_count": null,
   "metadata": {},
   "outputs": [],
   "source": [
    "# Confusion matrix\n",
    "confusion_matrix(y_train,Ytrain_predict)"
   ]
  },
  {
   "cell_type": "code",
   "execution_count": null,
   "metadata": {},
   "outputs": [],
   "source": [
    "# Classification report\n",
    "print(classification_report(y_train,Ytrain_predict))"
   ]
  },
  {
   "cell_type": "code",
   "execution_count": null,
   "metadata": {},
   "outputs": [],
   "source": [
    "# 3 values\n",
    "metrics=classification_report(y_train, Ytrain_predict,output_dict=True)\n",
    "df=pd.DataFrame(metrics).transpose()\n",
    "rf_train_f1=round(df.loc[\"1\"][2],2)\n",
    "rf_train_recall=round(df.loc[\"1\"][1],2)\n",
    "rf_train_precision=round(df.loc[\"1\"][0],2)\n",
    "print ('train_precision ',rf_train_precision)\n",
    "print ('train_recall ',rf_train_recall)\n",
    "print ('train_f1 ',rf_train_f1)"
   ]
  },
  {
   "cell_type": "markdown",
   "metadata": {},
   "source": [
    "# Test data"
   ]
  },
  {
   "cell_type": "code",
   "execution_count": null,
   "metadata": {},
   "outputs": [],
   "source": [
    "# Random Forest\n",
    "rf_test_acc=best_grid_RF.score(X_test,y_test)\n",
    "rf_test_acc"
   ]
  },
  {
   "cell_type": "code",
   "execution_count": null,
   "metadata": {},
   "outputs": [],
   "source": [
    "# AUC \n",
    "rf_test_fpr, rf_test_tpr,_=roc_curve(y_test,best_grid_RF.predict_proba(X_test)[:,1])\n",
    "plt.plot(rf_test_fpr,rf_test_tpr,color='green')\n",
    "plt.plot([0, 1], [0, 1], linestyle='--')\n",
    "plt.xlabel('False Positive Rate')\n",
    "plt.ylabel('True Positive Rate')\n",
    "plt.title('ROC')\n",
    "rf_test_auc=roc_auc_score(y_test,best_grid_RF.predict_proba(X_test)[:,1])\n",
    "print('Area under Curve is', rf_test_auc)"
   ]
  },
  {
   "cell_type": "code",
   "execution_count": null,
   "metadata": {},
   "outputs": [],
   "source": [
    "# Confusion matrix\n",
    "confusion_matrix(y_test,Ytest_predict)"
   ]
  },
  {
   "cell_type": "code",
   "execution_count": null,
   "metadata": {},
   "outputs": [],
   "source": [
    "# Classification report\n",
    "print(classification_report(y_test,Ytest_predict))"
   ]
  },
  {
   "cell_type": "code",
   "execution_count": null,
   "metadata": {},
   "outputs": [],
   "source": [
    "# 3 values\n",
    "metrics=classification_report(y_test, Ytest_predict,output_dict=True)\n",
    "df=pd.DataFrame(metrics).transpose()\n",
    "rf_test_f1=round(df.loc[\"1\"][2],2)\n",
    "rf_test_recall=round(df.loc[\"1\"][1],2)\n",
    "rf_test_precision=round(df.loc[\"1\"][0],2)\n",
    "print ('test_precision ',rf_test_precision)\n",
    "print ('test_recall ',rf_test_recall)\n",
    "print ('test_f1 ',rf_test_f1)"
   ]
  },
  {
   "cell_type": "markdown",
   "metadata": {},
   "source": [
    "# Comparing all the models"
   ]
  },
  {
   "cell_type": "code",
   "execution_count": null,
   "metadata": {},
   "outputs": [],
   "source": [
    "index=['Accuracy', 'AUC', 'Recall','Precision','F1 Score']\n",
    "data = pd.DataFrame(\n",
    "    {'LR Train':[lr_train_acc,lr_train_auc,lr_train_recall,lr_train_precision,lr_train_f1],\n",
    "     'LR Test':[lr_test_acc,lr_test_auc,lr_test_recall,lr_test_precision,lr_test_f1],\n",
    "     'Random Forest Train':[rf_train_acc,rf_train_auc,rf_train_recall,rf_train_precision,rf_train_f1],\n",
    "     'Random Forest Test':[rf_test_acc,rf_test_auc,rf_test_recall,rf_test_precision,rf_test_f1],\n",
    "     'LDA Train':[lda_train_acc,lda_train_auc,lda_train_recall,lda_train_precision,lda_train_f1],\n",
    "     'LDA Test':[lda_test_acc,lda_test_auc,lda_test_recall,lda_test_precision,lda_test_f1]},index=index)\n",
    "round(data,2)"
   ]
  },
  {
   "cell_type": "code",
   "execution_count": null,
   "metadata": {},
   "outputs": [],
   "source": [
    "# ROC Curve for the 3 models on the Training data\n",
    "plt.plot([0, 1], [0, 1], linestyle='--')\n",
    "plt.plot(lr_train_fpr,lr_train_tpr,color='black',label=\"LR\")\n",
    "plt.plot(lda_train_fpr, lda_train_tpr,color='blue',label=\"LDA\")\n",
    "plt.plot(rf_train_fpr,rf_train_tpr,color='green',label=\"RF\")\n",
    "plt.xlabel('False Positive Rate')\n",
    "plt.ylabel('True Positive Rate')\n",
    "plt.title('ROC')\n",
    "plt.legend(bbox_to_anchor=(0., 1.02, 1., .102), loc='lower right')"
   ]
  },
  {
   "cell_type": "code",
   "execution_count": null,
   "metadata": {},
   "outputs": [],
   "source": [
    "# ROC Curve for the 3 models on the Test data\n",
    "plt.plot([0, 1], [0, 1], linestyle='--')\n",
    "plt.plot(lda_test_fpr, lda_test_tpr,color='blue',label=\"LDA\")\n",
    "plt.plot(rf_test_fpr,rf_test_tpr,color='green',label=\"RF\")\n",
    "plt.plot(lr_test_fpr,lr_test_tpr,color='black',label=\"LR\")\n",
    "plt.xlabel('False Positive Rate')\n",
    "plt.ylabel('True Positive Rate')\n",
    "plt.title('ROC')\n",
    "plt.legend(bbox_to_anchor=(0., 1.02, 1., .102), loc='lower right')"
   ]
  },
  {
   "cell_type": "markdown",
   "metadata": {},
   "source": [
    "# MARKET RISK"
   ]
  },
  {
   "cell_type": "code",
   "execution_count": null,
   "metadata": {},
   "outputs": [],
   "source": [
    "import numpy as np\n",
    "import matplotlib.pyplot as plt\n",
    "import pandas as pd\n",
    "import seaborn as sns # for making plots with seaborn\n",
    "color = sns.color_palette()\n",
    "import sklearn.metrics as metrics\n",
    "import warnings\n",
    "warnings.filterwarnings(\"ignore\")"
   ]
  },
  {
   "cell_type": "code",
   "execution_count": null,
   "metadata": {},
   "outputs": [],
   "source": [
    "#!pip install tabulate\n",
    "#!pip install iexfinance\n",
    "#!pip install datetime"
   ]
  },
  {
   "cell_type": "code",
   "execution_count": null,
   "metadata": {},
   "outputs": [],
   "source": [
    "#Reading the file\n",
    "df=pd.read_csv(\"Market Risk Dataset.csv\")\n",
    "df.head()"
   ]
  },
  {
   "cell_type": "code",
   "execution_count": null,
   "metadata": {},
   "outputs": [],
   "source": [
    "# Size of rows and columns\n",
    "df.shape"
   ]
  },
  {
   "cell_type": "code",
   "execution_count": null,
   "metadata": {},
   "outputs": [],
   "source": [
    "# Checking data types of all columns\n",
    "df.info()"
   ]
  },
  {
   "cell_type": "code",
   "execution_count": null,
   "metadata": {},
   "outputs": [],
   "source": [
    "# Descriptive stats\n",
    "df.describe()"
   ]
  },
  {
   "cell_type": "code",
   "execution_count": null,
   "metadata": {},
   "outputs": [],
   "source": [
    "# Lets us plot & see price trend over time for different companies\n",
    "plt.figure(figsize = (10, 8))\n",
    "df['dates'] = [pd.to_datetime(d) for d in df['Date']]\n",
    "plt.scatter(df['dates'], df['Jet Airways'], edgecolors='b', color = 'lightblue')\n",
    "plt.xlabel('Year')\n",
    "plt.ylabel('Jet Airways')\n",
    "plt.title('Jet Airways over the years')\n",
    "plt.show()"
   ]
  },
  {
   "cell_type": "code",
   "execution_count": null,
   "metadata": {},
   "outputs": [],
   "source": [
    "plt.figure(figsize = (10, 8))\n",
    "df['dates'] = [pd.to_datetime(d) for d in df['Date']]\n",
    "plt.scatter(df['dates'], df['Mahindra & Mahindra'], edgecolors='b', color = 'lightblue')\n",
    "plt.xlabel('Year')\n",
    "plt.ylabel('Mahindra & Mahindra')\n",
    "plt.title('Mahindra & Mahindra')\n",
    "plt.show()"
   ]
  },
  {
   "cell_type": "code",
   "execution_count": null,
   "metadata": {},
   "outputs": [],
   "source": [
    "plt.figure(figsize = (10, 8))\n",
    "df['dates'] = [pd.to_datetime(d) for d in df['Date']]\n",
    "plt.scatter(df['dates'], df['Sun Pharma'], edgecolors='b', color = 'lightblue')\n",
    "plt.xlabel('Year')\n",
    "plt.ylabel('Sun Pharma')\n",
    "plt.title('Sun Pharma')\n",
    "plt.show()"
   ]
  },
  {
   "cell_type": "markdown",
   "metadata": {},
   "source": [
    "# Analyzing returns"
   ]
  },
  {
   "cell_type": "code",
   "execution_count": null,
   "metadata": {},
   "outputs": [],
   "source": [
    "df_returns = np.log(df.drop(['Date','dates'],axis=1)).diff(axis = 0, periods = 1) "
   ]
  },
  {
   "cell_type": "code",
   "execution_count": null,
   "metadata": {},
   "outputs": [],
   "source": [
    "# Checking the rows & columns of dataset\n",
    "df_returns.shape"
   ]
  },
  {
   "cell_type": "code",
   "execution_count": null,
   "metadata": {},
   "outputs": [],
   "source": [
    "# Top 5 rows\n",
    "df_returns.head()"
   ]
  },
  {
   "cell_type": "markdown",
   "metadata": {},
   "source": [
    "# We now look at Means & Standard Deviations of these returns"
   ]
  },
  {
   "cell_type": "code",
   "execution_count": null,
   "metadata": {},
   "outputs": [],
   "source": [
    "# Calculating stock means\n",
    "stock_means = df_returns.mean(axis = 0)\n",
    "stock_means.sort_values(axis=0, ascending=False)"
   ]
  },
  {
   "cell_type": "code",
   "execution_count": null,
   "metadata": {},
   "outputs": [],
   "source": [
    "# Calculating stock standard deviation¶\n",
    "stock_sd = df_returns.std(axis = 0)\n",
    "stock_sd.sort_values(axis=0, ascending=False)"
   ]
  },
  {
   "cell_type": "code",
   "execution_count": null,
   "metadata": {},
   "outputs": [],
   "source": [
    "df1 = pd.DataFrame({'Average':stock_means, 'Volatility': stock_sd})\n",
    "df1"
   ]
  },
  {
   "cell_type": "code",
   "execution_count": null,
   "metadata": {},
   "outputs": [],
   "source": [
    "# Plot(stock_sd, stock_means, edgecolors='r')\n",
    "plot = sns.scatterplot(df1['Volatility'], df1['Average'])\n",
    "plot.axvline(x=0.020257,linestyle='--', color = \"red\")\n",
    "plot.axhline(y=0.000683,linestyle='--', color = \"red\")\n",
    "plt.show()"
   ]
  },
  {
   "cell_type": "markdown",
   "metadata": {},
   "source": [
    "# END"
   ]
  }
 ],
 "metadata": {
  "kernelspec": {
   "display_name": "Python 3",
   "language": "python",
   "name": "python3"
  },
  "language_info": {
   "codemirror_mode": {
    "name": "ipython",
    "version": 3
   },
   "file_extension": ".py",
   "mimetype": "text/x-python",
   "name": "python",
   "nbconvert_exporter": "python",
   "pygments_lexer": "ipython3",
   "version": "3.8.5"
  }
 },
 "nbformat": 4,
 "nbformat_minor": 4
}
